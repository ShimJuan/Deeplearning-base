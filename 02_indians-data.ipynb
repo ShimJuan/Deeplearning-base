{
 "cells": [
  {
   "cell_type": "code",
   "execution_count": 3,
   "metadata": {},
   "outputs": [],
   "source": [
    "# 딥러닝을 구동하는 데 필요한 케라스 함수를 불러옵니다.\n",
    "from tensorflow.keras.models import Sequential\n",
    "from tensorflow.keras.layers import Dense\n",
    "\n",
    "# 필요한 라이브러리를 불러옵니다.\n",
    "import numpy as np\n",
    "import tensorflow as tf\n",
    "import pandas as pd\n",
    "\n",
    "# 실행할 때마다 같은 결과를 출력하기 위해 설정하는 부분입니다.\n",
    "numpy.random.seed(3)\n",
    "tf.random.set_seed(3)"
   ]
  },
  {
   "cell_type": "markdown",
   "metadata": {},
   "source": [
    "### 1.데이터 읽어오기"
   ]
  },
  {
   "cell_type": "code",
   "execution_count": 59,
   "metadata": {},
   "outputs": [],
   "source": [
    "# names=['pregnant','plasma','pressure','thickness','insulin','BMI','pedigree','age','class']\n",
    "data = pd.read_csv('dataset/pima-indians-diabetes.csv',names=['pregnant','plasma','pressure','thickness','insulin',\n",
    "                                                              'BMI','pedigree','age','class'])"
   ]
  },
  {
   "cell_type": "code",
   "execution_count": 60,
   "metadata": {},
   "outputs": [
    {
     "data": {
      "text/html": [
       "<div>\n",
       "<style scoped>\n",
       "    .dataframe tbody tr th:only-of-type {\n",
       "        vertical-align: middle;\n",
       "    }\n",
       "\n",
       "    .dataframe tbody tr th {\n",
       "        vertical-align: top;\n",
       "    }\n",
       "\n",
       "    .dataframe thead th {\n",
       "        text-align: right;\n",
       "    }\n",
       "</style>\n",
       "<table border=\"1\" class=\"dataframe\">\n",
       "  <thead>\n",
       "    <tr style=\"text-align: right;\">\n",
       "      <th></th>\n",
       "      <th>pregnant</th>\n",
       "      <th>plasma</th>\n",
       "      <th>pressure</th>\n",
       "      <th>thickness</th>\n",
       "      <th>insulin</th>\n",
       "      <th>BMI</th>\n",
       "      <th>pedigree</th>\n",
       "      <th>age</th>\n",
       "      <th>class</th>\n",
       "    </tr>\n",
       "  </thead>\n",
       "  <tbody>\n",
       "    <tr>\n",
       "      <th>0</th>\n",
       "      <td>6</td>\n",
       "      <td>148</td>\n",
       "      <td>72</td>\n",
       "      <td>35</td>\n",
       "      <td>0</td>\n",
       "      <td>33.6</td>\n",
       "      <td>0.627</td>\n",
       "      <td>50</td>\n",
       "      <td>1</td>\n",
       "    </tr>\n",
       "    <tr>\n",
       "      <th>1</th>\n",
       "      <td>1</td>\n",
       "      <td>85</td>\n",
       "      <td>66</td>\n",
       "      <td>29</td>\n",
       "      <td>0</td>\n",
       "      <td>26.6</td>\n",
       "      <td>0.351</td>\n",
       "      <td>31</td>\n",
       "      <td>0</td>\n",
       "    </tr>\n",
       "    <tr>\n",
       "      <th>2</th>\n",
       "      <td>8</td>\n",
       "      <td>183</td>\n",
       "      <td>64</td>\n",
       "      <td>0</td>\n",
       "      <td>0</td>\n",
       "      <td>23.3</td>\n",
       "      <td>0.672</td>\n",
       "      <td>32</td>\n",
       "      <td>1</td>\n",
       "    </tr>\n",
       "    <tr>\n",
       "      <th>3</th>\n",
       "      <td>1</td>\n",
       "      <td>89</td>\n",
       "      <td>66</td>\n",
       "      <td>23</td>\n",
       "      <td>94</td>\n",
       "      <td>28.1</td>\n",
       "      <td>0.167</td>\n",
       "      <td>21</td>\n",
       "      <td>0</td>\n",
       "    </tr>\n",
       "    <tr>\n",
       "      <th>4</th>\n",
       "      <td>0</td>\n",
       "      <td>137</td>\n",
       "      <td>40</td>\n",
       "      <td>35</td>\n",
       "      <td>168</td>\n",
       "      <td>43.1</td>\n",
       "      <td>2.288</td>\n",
       "      <td>33</td>\n",
       "      <td>1</td>\n",
       "    </tr>\n",
       "    <tr>\n",
       "      <th>...</th>\n",
       "      <td>...</td>\n",
       "      <td>...</td>\n",
       "      <td>...</td>\n",
       "      <td>...</td>\n",
       "      <td>...</td>\n",
       "      <td>...</td>\n",
       "      <td>...</td>\n",
       "      <td>...</td>\n",
       "      <td>...</td>\n",
       "    </tr>\n",
       "    <tr>\n",
       "      <th>763</th>\n",
       "      <td>10</td>\n",
       "      <td>101</td>\n",
       "      <td>76</td>\n",
       "      <td>48</td>\n",
       "      <td>180</td>\n",
       "      <td>32.9</td>\n",
       "      <td>0.171</td>\n",
       "      <td>63</td>\n",
       "      <td>0</td>\n",
       "    </tr>\n",
       "    <tr>\n",
       "      <th>764</th>\n",
       "      <td>2</td>\n",
       "      <td>122</td>\n",
       "      <td>70</td>\n",
       "      <td>27</td>\n",
       "      <td>0</td>\n",
       "      <td>36.8</td>\n",
       "      <td>0.340</td>\n",
       "      <td>27</td>\n",
       "      <td>0</td>\n",
       "    </tr>\n",
       "    <tr>\n",
       "      <th>765</th>\n",
       "      <td>5</td>\n",
       "      <td>121</td>\n",
       "      <td>72</td>\n",
       "      <td>23</td>\n",
       "      <td>112</td>\n",
       "      <td>26.2</td>\n",
       "      <td>0.245</td>\n",
       "      <td>30</td>\n",
       "      <td>0</td>\n",
       "    </tr>\n",
       "    <tr>\n",
       "      <th>766</th>\n",
       "      <td>1</td>\n",
       "      <td>126</td>\n",
       "      <td>60</td>\n",
       "      <td>0</td>\n",
       "      <td>0</td>\n",
       "      <td>30.1</td>\n",
       "      <td>0.349</td>\n",
       "      <td>47</td>\n",
       "      <td>1</td>\n",
       "    </tr>\n",
       "    <tr>\n",
       "      <th>767</th>\n",
       "      <td>1</td>\n",
       "      <td>93</td>\n",
       "      <td>70</td>\n",
       "      <td>31</td>\n",
       "      <td>0</td>\n",
       "      <td>30.4</td>\n",
       "      <td>0.315</td>\n",
       "      <td>23</td>\n",
       "      <td>0</td>\n",
       "    </tr>\n",
       "  </tbody>\n",
       "</table>\n",
       "<p>768 rows × 9 columns</p>\n",
       "</div>"
      ],
      "text/plain": [
       "     pregnant  plasma  pressure  thickness  insulin   BMI  pedigree  age  \\\n",
       "0           6     148        72         35        0  33.6     0.627   50   \n",
       "1           1      85        66         29        0  26.6     0.351   31   \n",
       "2           8     183        64          0        0  23.3     0.672   32   \n",
       "3           1      89        66         23       94  28.1     0.167   21   \n",
       "4           0     137        40         35      168  43.1     2.288   33   \n",
       "..        ...     ...       ...        ...      ...   ...       ...  ...   \n",
       "763        10     101        76         48      180  32.9     0.171   63   \n",
       "764         2     122        70         27        0  36.8     0.340   27   \n",
       "765         5     121        72         23      112  26.2     0.245   30   \n",
       "766         1     126        60          0        0  30.1     0.349   47   \n",
       "767         1      93        70         31        0  30.4     0.315   23   \n",
       "\n",
       "     class  \n",
       "0        1  \n",
       "1        0  \n",
       "2        1  \n",
       "3        0  \n",
       "4        1  \n",
       "..     ...  \n",
       "763      0  \n",
       "764      0  \n",
       "765      0  \n",
       "766      1  \n",
       "767      0  \n",
       "\n",
       "[768 rows x 9 columns]"
      ]
     },
     "execution_count": 60,
     "metadata": {},
     "output_type": "execute_result"
    }
   ],
   "source": [
    "data"
   ]
  },
  {
   "cell_type": "markdown",
   "metadata": {},
   "source": [
    "### 2.데이터전처리"
   ]
  },
  {
   "cell_type": "code",
   "execution_count": 61,
   "metadata": {},
   "outputs": [],
   "source": [
    "x = data['BMI']"
   ]
  },
  {
   "cell_type": "code",
   "execution_count": 62,
   "metadata": {},
   "outputs": [
    {
     "data": {
      "text/plain": [
       "0      33.6\n",
       "1      26.6\n",
       "2      23.3\n",
       "3      28.1\n",
       "4      43.1\n",
       "       ... \n",
       "763    32.9\n",
       "764    36.8\n",
       "765    26.2\n",
       "766    30.1\n",
       "767    30.4\n",
       "Name: BMI, Length: 768, dtype: float64"
      ]
     },
     "execution_count": 62,
     "metadata": {},
     "output_type": "execute_result"
    }
   ],
   "source": [
    "x"
   ]
  },
  {
   "cell_type": "code",
   "execution_count": 63,
   "metadata": {},
   "outputs": [],
   "source": [
    "y = data['class']"
   ]
  },
  {
   "cell_type": "code",
   "execution_count": 64,
   "metadata": {},
   "outputs": [
    {
     "data": {
      "text/plain": [
       "0      1\n",
       "1      0\n",
       "2      1\n",
       "3      0\n",
       "4      1\n",
       "      ..\n",
       "763    0\n",
       "764    0\n",
       "765    0\n",
       "766    1\n",
       "767    0\n",
       "Name: class, Length: 768, dtype: int64"
      ]
     },
     "execution_count": 64,
     "metadata": {},
     "output_type": "execute_result"
    }
   ],
   "source": [
    "y"
   ]
  },
  {
   "cell_type": "code",
   "execution_count": 65,
   "metadata": {},
   "outputs": [],
   "source": [
    "# 딥러닝 구조를 결정 \n",
    "model = Sequential()\n",
    "# 모델을 설정하고 실행하는 부분 \n",
    "model.add(Dense(30, input_dim=1, activation='relu'))\n",
    "model.add(Dense(1,activation='sigmoid'))"
   ]
  },
  {
   "cell_type": "code",
   "execution_count": 66,
   "metadata": {
    "collapsed": true,
    "jupyter": {
     "outputs_hidden": true
    }
   },
   "outputs": [
    {
     "name": "stdout",
     "output_type": "stream",
     "text": [
      "Epoch 1/100\n",
      "77/77 [==============================] - 0s 818us/step - loss: 0.6429 - accuracy: 0.3581\n",
      "Epoch 2/100\n",
      "77/77 [==============================] - 0s 740us/step - loss: 0.4512 - accuracy: 0.4596\n",
      "Epoch 3/100\n",
      "77/77 [==============================] - 0s 740us/step - loss: 0.2350 - accuracy: 0.6510\n",
      "Epoch 4/100\n",
      "77/77 [==============================] - 0s 714us/step - loss: 0.2340 - accuracy: 0.6510\n",
      "Epoch 5/100\n",
      "77/77 [==============================] - 0s 753us/step - loss: 0.2332 - accuracy: 0.6510\n",
      "Epoch 6/100\n",
      "77/77 [==============================] - 0s 766us/step - loss: 0.2322 - accuracy: 0.6510\n",
      "Epoch 7/100\n",
      "77/77 [==============================] - 0s 701us/step - loss: 0.2331 - accuracy: 0.6341\n",
      "Epoch 8/100\n",
      "77/77 [==============================] - 0s 779us/step - loss: 0.2334 - accuracy: 0.6549\n",
      "Epoch 9/100\n",
      "77/77 [==============================] - 0s 701us/step - loss: 0.2303 - accuracy: 0.6510\n",
      "Epoch 10/100\n",
      "77/77 [==============================] - 0s 766us/step - loss: 0.2283 - accuracy: 0.6523\n",
      "Epoch 11/100\n",
      "77/77 [==============================] - 0s 701us/step - loss: 0.2283 - accuracy: 0.6510\n",
      "Epoch 12/100\n",
      "77/77 [==============================] - 0s 754us/step - loss: 0.2293 - accuracy: 0.6536\n",
      "Epoch 13/100\n",
      "77/77 [==============================] - 0s 766us/step - loss: 0.2267 - accuracy: 0.6510\n",
      "Epoch 14/100\n",
      "77/77 [==============================] - 0s 753us/step - loss: 0.2291 - accuracy: 0.6406\n",
      "Epoch 15/100\n",
      "77/77 [==============================] - 0s 766us/step - loss: 0.2242 - accuracy: 0.6536\n",
      "Epoch 16/100\n",
      "77/77 [==============================] - 0s 779us/step - loss: 0.2253 - accuracy: 0.6471\n",
      "Epoch 17/100\n",
      "77/77 [==============================] - 0s 766us/step - loss: 0.2249 - accuracy: 0.6549\n",
      "Epoch 18/100\n",
      "77/77 [==============================] - 0s 818us/step - loss: 0.2214 - accuracy: 0.6628\n",
      "Epoch 19/100\n",
      "77/77 [==============================] - 0s 766us/step - loss: 0.2241 - accuracy: 0.6523\n",
      "Epoch 20/100\n",
      "77/77 [==============================] - 0s 818us/step - loss: 0.2259 - accuracy: 0.6523\n",
      "Epoch 21/100\n",
      "77/77 [==============================] - 0s 753us/step - loss: 0.2222 - accuracy: 0.6523\n",
      "Epoch 22/100\n",
      "77/77 [==============================] - 0s 779us/step - loss: 0.2231 - accuracy: 0.6497\n",
      "Epoch 23/100\n",
      "77/77 [==============================] - 0s 831us/step - loss: 0.2228 - accuracy: 0.6562\n",
      "Epoch 24/100\n",
      "77/77 [==============================] - 0s 870us/step - loss: 0.2210 - accuracy: 0.6576\n",
      "Epoch 25/100\n",
      "77/77 [==============================] - 0s 857us/step - loss: 0.2202 - accuracy: 0.6562\n",
      "Epoch 26/100\n",
      "77/77 [==============================] - 0s 779us/step - loss: 0.2186 - accuracy: 0.6602\n",
      "Epoch 27/100\n",
      "77/77 [==============================] - 0s 831us/step - loss: 0.2223 - accuracy: 0.6523\n",
      "Epoch 28/100\n",
      "77/77 [==============================] - 0s 792us/step - loss: 0.2200 - accuracy: 0.6484\n",
      "Epoch 29/100\n",
      "77/77 [==============================] - 0s 792us/step - loss: 0.2179 - accuracy: 0.6576\n",
      "Epoch 30/100\n",
      "77/77 [==============================] - 0s 792us/step - loss: 0.2179 - accuracy: 0.6693\n",
      "Epoch 31/100\n",
      "77/77 [==============================] - 0s 909us/step - loss: 0.2197 - accuracy: 0.6536\n",
      "Epoch 32/100\n",
      "77/77 [==============================] - 0s 818us/step - loss: 0.2173 - accuracy: 0.6654\n",
      "Epoch 33/100\n",
      "77/77 [==============================] - 0s 844us/step - loss: 0.2190 - accuracy: 0.6602\n",
      "Epoch 34/100\n",
      "77/77 [==============================] - 0s 909us/step - loss: 0.2143 - accuracy: 0.6654\n",
      "Epoch 35/100\n",
      "77/77 [==============================] - 0s 909us/step - loss: 0.2159 - accuracy: 0.6523\n",
      "Epoch 36/100\n",
      "77/77 [==============================] - 0s 896us/step - loss: 0.2148 - accuracy: 0.6510\n",
      "Epoch 37/100\n",
      "77/77 [==============================] - 0s 909us/step - loss: 0.2147 - accuracy: 0.6732\n",
      "Epoch 38/100\n",
      "77/77 [==============================] - 0s 792us/step - loss: 0.2152 - accuracy: 0.6615\n",
      "Epoch 39/100\n",
      "77/77 [==============================] - 0s 857us/step - loss: 0.2164 - accuracy: 0.6510\n",
      "Epoch 40/100\n",
      "77/77 [==============================] - 0s 896us/step - loss: 0.2151 - accuracy: 0.6536\n",
      "Epoch 41/100\n",
      "77/77 [==============================] - 0s 870us/step - loss: 0.2151 - accuracy: 0.6628\n",
      "Epoch 42/100\n",
      "77/77 [==============================] - 0s 831us/step - loss: 0.2133 - accuracy: 0.6549\n",
      "Epoch 43/100\n",
      "77/77 [==============================] - 0s 818us/step - loss: 0.2140 - accuracy: 0.6497\n",
      "Epoch 44/100\n",
      "77/77 [==============================] - 0s 818us/step - loss: 0.2138 - accuracy: 0.6549\n",
      "Epoch 45/100\n",
      "77/77 [==============================] - 0s 844us/step - loss: 0.2244 - accuracy: 0.6367\n",
      "Epoch 46/100\n",
      "77/77 [==============================] - 0s 857us/step - loss: 0.2150 - accuracy: 0.6549\n",
      "Epoch 47/100\n",
      "77/77 [==============================] - 0s 883us/step - loss: 0.2139 - accuracy: 0.6784\n",
      "Epoch 48/100\n",
      "77/77 [==============================] - 0s 727us/step - loss: 0.2127 - accuracy: 0.6576\n",
      "Epoch 49/100\n",
      "77/77 [==============================] - 0s 844us/step - loss: 0.2124 - accuracy: 0.6523\n",
      "Epoch 50/100\n",
      "77/77 [==============================] - 0s 701us/step - loss: 0.2117 - accuracy: 0.6680\n",
      "Epoch 51/100\n",
      "77/77 [==============================] - 0s 909us/step - loss: 0.2134 - accuracy: 0.6823\n",
      "Epoch 52/100\n",
      "77/77 [==============================] - 0s 909us/step - loss: 0.2136 - accuracy: 0.6549\n",
      "Epoch 53/100\n",
      "77/77 [==============================] - 0s 974us/step - loss: 0.2100 - accuracy: 0.6641\n",
      "Epoch 54/100\n",
      "77/77 [==============================] - 0s 935us/step - loss: 0.2121 - accuracy: 0.6615\n",
      "Epoch 55/100\n",
      "77/77 [==============================] - 0s 909us/step - loss: 0.2129 - accuracy: 0.6536\n",
      "Epoch 56/100\n",
      "77/77 [==============================] - 0s 857us/step - loss: 0.2131 - accuracy: 0.6615\n",
      "Epoch 57/100\n",
      "77/77 [==============================] - 0s 1ms/step - loss: 0.2111 - accuracy: 0.6732\n",
      "Epoch 58/100\n",
      "77/77 [==============================] - 0s 1ms/step - loss: 0.2141 - accuracy: 0.6432\n",
      "Epoch 59/100\n",
      "77/77 [==============================] - 0s 948us/step - loss: 0.2106 - accuracy: 0.6615\n",
      "Epoch 60/100\n",
      "77/77 [==============================] - 0s 1ms/step - loss: 0.2124 - accuracy: 0.6562\n",
      "Epoch 61/100\n",
      "77/77 [==============================] - 0s 935us/step - loss: 0.2092 - accuracy: 0.6693\n",
      "Epoch 62/100\n",
      "77/77 [==============================] - 0s 773us/step - loss: 0.2135 - accuracy: 0.6549\n",
      "Epoch 63/100\n",
      "77/77 [==============================] - 0s 727us/step - loss: 0.2102 - accuracy: 0.6758\n",
      "Epoch 64/100\n",
      "77/77 [==============================] - 0s 909us/step - loss: 0.2113 - accuracy: 0.6562\n",
      "Epoch 65/100\n",
      "77/77 [==============================] - 0s 948us/step - loss: 0.2113 - accuracy: 0.6510\n",
      "Epoch 66/100\n",
      "77/77 [==============================] - 0s 948us/step - loss: 0.2099 - accuracy: 0.6667\n",
      "Epoch 67/100\n",
      "77/77 [==============================] - 0s 805us/step - loss: 0.2127 - accuracy: 0.6458\n",
      "Epoch 68/100\n",
      "77/77 [==============================] - 0s 844us/step - loss: 0.2111 - accuracy: 0.6615\n",
      "Epoch 69/100\n",
      "77/77 [==============================] - 0s 779us/step - loss: 0.2108 - accuracy: 0.6706\n",
      "Epoch 70/100\n",
      "77/77 [==============================] - 0s 701us/step - loss: 0.2123 - accuracy: 0.6562\n",
      "Epoch 71/100\n",
      "77/77 [==============================] - 0s 844us/step - loss: 0.2120 - accuracy: 0.6602\n",
      "Epoch 72/100\n",
      "77/77 [==============================] - 0s 779us/step - loss: 0.2091 - accuracy: 0.6576\n",
      "Epoch 73/100\n",
      "77/77 [==============================] - 0s 987us/step - loss: 0.2077 - accuracy: 0.6680\n",
      "Epoch 74/100\n",
      "77/77 [==============================] - 0s 805us/step - loss: 0.2073 - accuracy: 0.6706\n",
      "Epoch 75/100\n",
      "77/77 [==============================] - 0s 708us/step - loss: 0.2116 - accuracy: 0.6628\n",
      "Epoch 76/100\n",
      "77/77 [==============================] - 0s 649us/step - loss: 0.2114 - accuracy: 0.6706\n",
      "Epoch 77/100\n",
      "77/77 [==============================] - 0s 649us/step - loss: 0.2089 - accuracy: 0.6641\n",
      "Epoch 78/100\n",
      "77/77 [==============================] - 0s 780us/step - loss: 0.2102 - accuracy: 0.6706\n",
      "Epoch 79/100\n",
      "77/77 [==============================] - 0s 727us/step - loss: 0.2086 - accuracy: 0.6549\n",
      "Epoch 80/100\n",
      "77/77 [==============================] - 0s 676us/step - loss: 0.2094 - accuracy: 0.6602\n",
      "Epoch 81/100\n",
      "77/77 [==============================] - 0s 714us/step - loss: 0.2126 - accuracy: 0.6589\n",
      "Epoch 82/100\n",
      "77/77 [==============================] - 0s 675us/step - loss: 0.2090 - accuracy: 0.6576\n",
      "Epoch 83/100\n",
      "77/77 [==============================] - 0s 676us/step - loss: 0.2106 - accuracy: 0.6497\n",
      "Epoch 84/100\n",
      "77/77 [==============================] - 0s 727us/step - loss: 0.2099 - accuracy: 0.6615\n",
      "Epoch 85/100\n",
      "77/77 [==============================] - 0s 675us/step - loss: 0.2120 - accuracy: 0.6432\n",
      "Epoch 86/100\n",
      "77/77 [==============================] - 0s 702us/step - loss: 0.2084 - accuracy: 0.6654\n",
      "Epoch 87/100\n",
      "77/77 [==============================] - 0s 753us/step - loss: 0.2099 - accuracy: 0.6654\n",
      "Epoch 88/100\n",
      "77/77 [==============================] - 0s 844us/step - loss: 0.2109 - accuracy: 0.6602\n",
      "Epoch 89/100\n",
      "77/77 [==============================] - 0s 701us/step - loss: 0.2101 - accuracy: 0.6654\n",
      "Epoch 90/100\n",
      "77/77 [==============================] - 0s 675us/step - loss: 0.2075 - accuracy: 0.6654\n",
      "Epoch 91/100\n",
      "77/77 [==============================] - 0s 753us/step - loss: 0.2111 - accuracy: 0.6458\n",
      "Epoch 92/100\n",
      "77/77 [==============================] - 0s 857us/step - loss: 0.2095 - accuracy: 0.6602\n",
      "Epoch 93/100\n",
      "77/77 [==============================] - 0s 753us/step - loss: 0.2096 - accuracy: 0.6523\n",
      "Epoch 94/100\n",
      "77/77 [==============================] - 0s 740us/step - loss: 0.2086 - accuracy: 0.6680\n",
      "Epoch 95/100\n",
      "77/77 [==============================] - 0s 740us/step - loss: 0.2124 - accuracy: 0.6536\n",
      "Epoch 96/100\n",
      "77/77 [==============================] - 0s 766us/step - loss: 0.2089 - accuracy: 0.6549\n",
      "Epoch 97/100\n",
      "77/77 [==============================] - 0s 688us/step - loss: 0.2088 - accuracy: 0.6693\n",
      "Epoch 98/100\n",
      "77/77 [==============================] - 0s 728us/step - loss: 0.2103 - accuracy: 0.6562\n",
      "Epoch 99/100\n",
      "77/77 [==============================] - 0s 675us/step - loss: 0.2079 - accuracy: 0.6667\n",
      "Epoch 100/100\n",
      "77/77 [==============================] - 0s 753us/step - loss: 0.2084 - accuracy: 0.6732\n"
     ]
    },
    {
     "data": {
      "text/plain": [
       "<tensorflow.python.keras.callbacks.History at 0x1f276856a88>"
      ]
     },
     "execution_count": 66,
     "metadata": {},
     "output_type": "execute_result"
    }
   ],
   "source": [
    "model.compile(loss='mean_squared_error',optimizer='adam',metrics=['accuracy'])\n",
    "model.fit(x,y,epochs=100,batch_size=10)\n"
   ]
  },
  {
   "cell_type": "code",
   "execution_count": 72,
   "metadata": {},
   "outputs": [
    {
     "name": "stdout",
     "output_type": "stream",
     "text": [
      "24/24 [==============================] - 0s 1ms/step - loss: 0.2065 - accuracy: 0.6680\n",
      "0.66796875\n"
     ]
    }
   ],
   "source": [
    "# print('\\n Accuracy: %.4f' % (model.evaluate(x,y)[1]))\n",
    "print(model.evaluate(x,y)[1])"
   ]
  },
  {
   "cell_type": "code",
   "execution_count": 67,
   "metadata": {},
   "outputs": [],
   "source": [
    "import matplotlib.pyplot as plt\n",
    "import seaborn as sns"
   ]
  },
  {
   "cell_type": "code",
   "execution_count": 68,
   "metadata": {},
   "outputs": [
    {
     "data": {
      "text/plain": [
       "<Figure size 864x864 with 0 Axes>"
      ]
     },
     "execution_count": 68,
     "metadata": {},
     "output_type": "execute_result"
    },
    {
     "data": {
      "text/plain": [
       "<Figure size 864x864 with 0 Axes>"
      ]
     },
     "metadata": {},
     "output_type": "display_data"
    }
   ],
   "source": [
    "plt.figure(figsize=(12,12))"
   ]
  },
  {
   "cell_type": "code",
   "execution_count": 70,
   "metadata": {},
   "outputs": [
    {
     "data": {
      "image/png": "[encoded data removed]",
      "text/plain": [
       "<Figure size 432x288 with 2 Axes>"
      ]
     },
     "metadata": {
      "needs_background": "light"
     },
     "output_type": "display_data"
    }
   ],
   "source": [
    "sns.heatmap(data.corr(),linewidths=0.1, vmax=0.5, cmap=plt.cm.gist_heat, linecolor='white',annot=True)\n",
    "plt.show()"
   ]
  },
  {
   "cell_type": "code",
   "execution_count": null,
   "metadata": {},
   "outputs": [],
   "source": []
  }
 ],
 "metadata": {
  "kernelspec": {
   "display_name": "Python 3",
   "language": "python",
   "name": "python3"
  },
  "language_info": {
   "codemirror_mode": {
    "name": "ipython",
    "version": 3
   },
   "file_extension": ".py",
   "mimetype": "text/x-python",
   "name": "python",
   "nbconvert_exporter": "python",
   "pygments_lexer": "ipython3",
   "version": "3.7.6"
  }
 },
 "nbformat": 4,
 "nbformat_minor": 4
}
