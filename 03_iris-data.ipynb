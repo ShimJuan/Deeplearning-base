{
 "cells": [
  {
   "cell_type": "code",
   "execution_count": 1,
   "metadata": {},
   "outputs": [],
   "source": [
    "# 딥러닝을 구동하는 데 필요한 케라스 함수를 불러옵니다.\n",
    "from tensorflow.keras.models import Sequential\n",
    "from tensorflow.keras.layers import Dense\n",
    "from sklearn.preprocessing import LabelEncoder\n",
    "# 필요한 라이브러리를 불러옵니다.\n",
    "import numpy as np\n",
    "import tensorflow as tf\n",
    "import pandas as pd\n",
    "import seaborn as sns\n",
    "import matplotlib.pyplot as plt"
   ]
  },
  {
   "cell_type": "code",
   "execution_count": 2,
   "metadata": {},
   "outputs": [],
   "source": [
    "# 실행할 때마다 같은 결과를 출력하기 위해 설정하는 부분입니다.\n",
    "np.random.seed(3)\n",
    "tf.random.set_seed(3)"
   ]
  },
  {
   "cell_type": "code",
   "execution_count": 3,
   "metadata": {},
   "outputs": [],
   "source": [
    "df = pd.read_csv('iris.csv',names=['sepal_length','sepal_width','petal_length','petal-width','species'])"
   ]
  },
  {
   "cell_type": "code",
   "execution_count": 4,
   "metadata": {},
   "outputs": [
    {
     "name": "stdout",
     "output_type": "stream",
     "text": [
      "<class 'pandas.core.frame.DataFrame'>\n",
      "RangeIndex: 150 entries, 0 to 149\n",
      "Data columns (total 5 columns):\n",
      " #   Column        Non-Null Count  Dtype  \n",
      "---  ------        --------------  -----  \n",
      " 0   sepal_length  150 non-null    float64\n",
      " 1   sepal_width   150 non-null    float64\n",
      " 2   petal_length  150 non-null    float64\n",
      " 3   petal-width   150 non-null    float64\n",
      " 4   species       150 non-null    object \n",
      "dtypes: float64(4), object(1)\n",
      "memory usage: 6.0+ KB\n"
     ]
    }
   ],
   "source": [
    "# species 만 문자열타입\n",
    "df.info()"
   ]
  },
  {
   "cell_type": "code",
   "execution_count": 5,
   "metadata": {},
   "outputs": [
    {
     "data": {
      "text/plain": [
       "(150, 5)"
      ]
     },
     "execution_count": 5,
     "metadata": {},
     "output_type": "execute_result"
    }
   ],
   "source": [
    "df.shape"
   ]
  },
  {
   "cell_type": "code",
   "execution_count": 6,
   "metadata": {},
   "outputs": [
    {
     "data": {
      "text/plain": [
       "array(['Iris-setosa', 'Iris-versicolor', 'Iris-virginica'], dtype=object)"
      ]
     },
     "execution_count": 6,
     "metadata": {},
     "output_type": "execute_result"
    }
   ],
   "source": [
    "# 문자열 빼고 출력 \n",
    "df['species'].unique()"
   ]
  },
  {
   "cell_type": "code",
   "execution_count": 7,
   "metadata": {},
   "outputs": [],
   "source": [
    "data = df.values"
   ]
  },
  {
   "cell_type": "code",
   "execution_count": 10,
   "metadata": {},
   "outputs": [],
   "source": [
    "x = data[:,0:4].astype(float)\n",
    "y_obj = data[:,4]"
   ]
  },
  {
   "cell_type": "code",
   "execution_count": 13,
   "metadata": {},
   "outputs": [],
   "source": [
    "# 문자열을 숫자로 바꾸는 방법 1\n",
    "e = LabelEncoder()\n",
    "e.fit(y_obj)\n",
    "y1 = e.transform(y_obj)\n",
    "y_encoded = tf.keras.utils.to_categorical(y1)"
   ]
  },
  {
   "cell_type": "code",
   "execution_count": null,
   "metadata": {},
   "outputs": [],
   "source": [
    "# def f(X) : \n",
    "#     if(x == df['species'],)"
   ]
  },
  {
   "cell_type": "code",
   "execution_count": 17,
   "metadata": {},
   "outputs": [
    {
     "name": "stdout",
     "output_type": "stream",
     "text": [
      "Epoch 1/50\n",
      "30/30 [==============================] - 0s 1ms/step - loss: 1.7106 - accuracy: 0.4467\n",
      "Epoch 2/50\n",
      "30/30 [==============================] - 0s 1ms/step - loss: 1.1221 - accuracy: 0.6667\n",
      "Epoch 3/50\n",
      "30/30 [==============================] - 0s 1ms/step - loss: 0.8383 - accuracy: 0.6533\n",
      "Epoch 4/50\n",
      "30/30 [==============================] - 0s 967us/step - loss: 0.7473 - accuracy: 0.4933\n",
      "Epoch 5/50\n",
      "30/30 [==============================] - 0s 967us/step - loss: 0.6855 - accuracy: 0.6667\n",
      "Epoch 6/50\n",
      "30/30 [==============================] - 0s 866us/step - loss: 0.6417 - accuracy: 0.6200\n",
      "Epoch 7/50\n",
      "30/30 [==============================] - 0s 933us/step - loss: 0.6094 - accuracy: 0.6267\n",
      "Epoch 8/50\n",
      "30/30 [==============================] - 0s 800us/step - loss: 0.5777 - accuracy: 0.6667\n",
      "Epoch 9/50\n",
      "30/30 [==============================] - 0s 798us/step - loss: 0.5527 - accuracy: 0.6667\n",
      "Epoch 10/50\n",
      "30/30 [==============================] - 0s 966us/step - loss: 0.5305 - accuracy: 0.8400\n",
      "Epoch 11/50\n",
      "30/30 [==============================] - 0s 933us/step - loss: 0.5126 - accuracy: 0.7133\n",
      "Epoch 12/50\n",
      "30/30 [==============================] - 0s 833us/step - loss: 0.5046 - accuracy: 0.7600\n",
      "Epoch 13/50\n",
      "30/30 [==============================] - 0s 830us/step - loss: 0.4815 - accuracy: 0.7933\n",
      "Epoch 14/50\n",
      "30/30 [==============================] - 0s 833us/step - loss: 0.4643 - accuracy: 0.7733\n",
      "Epoch 15/50\n",
      "30/30 [==============================] - 0s 833us/step - loss: 0.4514 - accuracy: 0.9600\n",
      "Epoch 16/50\n",
      "30/30 [==============================] - 0s 933us/step - loss: 0.4432 - accuracy: 0.7800\n",
      "Epoch 17/50\n",
      "30/30 [==============================] - 0s 833us/step - loss: 0.4280 - accuracy: 0.9600\n",
      "Epoch 18/50\n",
      "30/30 [==============================] - 0s 899us/step - loss: 0.4163 - accuracy: 0.9600\n",
      "Epoch 19/50\n",
      "30/30 [==============================] - 0s 900us/step - loss: 0.4073 - accuracy: 0.9133\n",
      "Epoch 20/50\n",
      "30/30 [==============================] - 0s 900us/step - loss: 0.3929 - accuracy: 0.9733\n",
      "Epoch 21/50\n",
      "30/30 [==============================] - 0s 934us/step - loss: 0.3835 - accuracy: 0.8800\n",
      "Epoch 22/50\n",
      "30/30 [==============================] - 0s 866us/step - loss: 0.3730 - accuracy: 0.9733\n",
      "Epoch 23/50\n",
      "30/30 [==============================] - 0s 833us/step - loss: 0.3616 - accuracy: 0.9733\n",
      "Epoch 24/50\n",
      "30/30 [==============================] - 0s 867us/step - loss: 0.3537 - accuracy: 0.9533\n",
      "Epoch 25/50\n",
      "30/30 [==============================] - 0s 833us/step - loss: 0.3422 - accuracy: 0.9600\n",
      "Epoch 26/50\n",
      "30/30 [==============================] - 0s 733us/step - loss: 0.3450 - accuracy: 0.9467\n",
      "Epoch 27/50\n",
      "30/30 [==============================] - 0s 734us/step - loss: 0.3263 - accuracy: 0.9800\n",
      "Epoch 28/50\n",
      "30/30 [==============================] - 0s 733us/step - loss: 0.3205 - accuracy: 0.9267\n",
      "Epoch 29/50\n",
      "30/30 [==============================] - 0s 733us/step - loss: 0.3283 - accuracy: 0.9133\n",
      "Epoch 30/50\n",
      "30/30 [==============================] - 0s 733us/step - loss: 0.3094 - accuracy: 0.9533\n",
      "Epoch 31/50\n",
      "30/30 [==============================] - 0s 833us/step - loss: 0.2946 - accuracy: 0.9800\n",
      "Epoch 32/50\n",
      "30/30 [==============================] - 0s 733us/step - loss: 0.2893 - accuracy: 0.9667\n",
      "Epoch 33/50\n",
      "30/30 [==============================] - 0s 765us/step - loss: 0.2796 - accuracy: 0.9667\n",
      "Epoch 34/50\n",
      "30/30 [==============================] - 0s 667us/step - loss: 0.2721 - accuracy: 0.9667\n",
      "Epoch 35/50\n",
      "30/30 [==============================] - 0s 667us/step - loss: 0.2645 - accuracy: 0.9867\n",
      "Epoch 36/50\n",
      "30/30 [==============================] - 0s 733us/step - loss: 0.2655 - accuracy: 0.9667\n",
      "Epoch 37/50\n",
      "30/30 [==============================] - 0s 800us/step - loss: 0.2543 - accuracy: 0.9600\n",
      "Epoch 38/50\n",
      "30/30 [==============================] - 0s 667us/step - loss: 0.2436 - accuracy: 0.9800\n",
      "Epoch 39/50\n",
      "30/30 [==============================] - 0s 667us/step - loss: 0.2326 - accuracy: 0.9667\n",
      "Epoch 40/50\n",
      "30/30 [==============================] - 0s 600us/step - loss: 0.2271 - accuracy: 0.9733\n",
      "Epoch 41/50\n",
      "30/30 [==============================] - 0s 733us/step - loss: 0.2166 - accuracy: 0.9733\n",
      "Epoch 42/50\n",
      "30/30 [==============================] - 0s 766us/step - loss: 0.2099 - accuracy: 0.9933\n",
      "Epoch 43/50\n",
      "30/30 [==============================] - 0s 673us/step - loss: 0.2055 - accuracy: 0.9733\n",
      "Epoch 44/50\n",
      "30/30 [==============================] - 0s 633us/step - loss: 0.2012 - accuracy: 0.9467\n",
      "Epoch 45/50\n",
      "30/30 [==============================] - 0s 667us/step - loss: 0.1960 - accuracy: 0.9733\n",
      "Epoch 46/50\n",
      "30/30 [==============================] - 0s 800us/step - loss: 0.1904 - accuracy: 0.9800\n",
      "Epoch 47/50\n",
      "30/30 [==============================] - 0s 666us/step - loss: 0.1854 - accuracy: 0.9800\n",
      "Epoch 48/50\n",
      "30/30 [==============================] - 0s 736us/step - loss: 0.1779 - accuracy: 0.9733\n",
      "Epoch 49/50\n",
      "30/30 [==============================] - 0s 633us/step - loss: 0.1767 - accuracy: 0.9667\n",
      "Epoch 50/50\n",
      "30/30 [==============================] - 0s 667us/step - loss: 0.1777 - accuracy: 0.9667\n"
     ]
    },
    {
     "data": {
      "text/plain": [
       "<tensorflow.python.keras.callbacks.History at 0x165d9ac2348>"
      ]
     },
     "execution_count": 17,
     "metadata": {},
     "output_type": "execute_result"
    }
   ],
   "source": [
    "model = Sequential()\n",
    "# 모델을 설정하고 실행하는 부분 \n",
    "model.add(Dense(40, input_dim=4, activation='relu'))\n",
    "model.add(Dense(3,activation='softmax'))\n",
    "model.compile(loss='categorical_crossentropy',optimizer='adam',metrics=['accuracy'])\n",
    "model.fit(x,y_encoded,epochs=50,batch_size=5)"
   ]
  },
  {
   "cell_type": "code",
   "execution_count": 18,
   "metadata": {},
   "outputs": [
    {
     "name": "stdout",
     "output_type": "stream",
     "text": [
      "5/5 [==============================] - 0s 1ms/step - loss: 0.1665 - accuracy: 0.9733\n",
      "0.9733333587646484\n"
     ]
    }
   ],
   "source": [
    "print(model.evaluate(x,y_encoded)[1])"
   ]
  },
  {
   "cell_type": "code",
   "execution_count": null,
   "metadata": {},
   "outputs": [],
   "source": []
  }
 ],
 "metadata": {
  "kernelspec": {
   "display_name": "Python 3",
   "language": "python",
   "name": "python3"
  },
  "language_info": {
   "codemirror_mode": {
    "name": "ipython",
    "version": 3
   },
   "file_extension": ".py",
   "mimetype": "text/x-python",
   "name": "python",
   "nbconvert_exporter": "python",
   "pygments_lexer": "ipython3",
   "version": "3.7.6"
  }
 },
 "nbformat": 4,
 "nbformat_minor": 4
}
